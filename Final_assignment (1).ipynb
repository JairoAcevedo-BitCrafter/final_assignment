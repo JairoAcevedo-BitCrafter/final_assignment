{
  "cells": [
    {
      "cell_type": "markdown",
      "metadata": {
        "id": "TWWPvVffOA92"
      },
      "source": [
        "#Data preparation"
      ]
    },
    {
      "cell_type": "code",
      "source": [
        "!pip install transformers"
      ],
      "metadata": {
        "colab": {
          "base_uri": "https://localhost:8080/"
        },
        "id": "4SCpH175r0l0",
        "outputId": "6c433b38-e9b2-4bf3-f1cb-5538761df056"
      },
      "execution_count": 8,
      "outputs": [
        {
          "output_type": "stream",
          "name": "stdout",
          "text": [
            "Requirement already satisfied: transformers in /usr/local/lib/python3.10/dist-packages (4.34.0)\n",
            "Requirement already satisfied: filelock in /usr/local/lib/python3.10/dist-packages (from transformers) (3.12.4)\n",
            "Requirement already satisfied: huggingface-hub<1.0,>=0.16.4 in /usr/local/lib/python3.10/dist-packages (from transformers) (0.17.3)\n",
            "Requirement already satisfied: numpy>=1.17 in /usr/local/lib/python3.10/dist-packages (from transformers) (1.23.5)\n",
            "Requirement already satisfied: packaging>=20.0 in /usr/local/lib/python3.10/dist-packages (from transformers) (23.2)\n",
            "Requirement already satisfied: pyyaml>=5.1 in /usr/local/lib/python3.10/dist-packages (from transformers) (6.0.1)\n",
            "Requirement already satisfied: regex!=2019.12.17 in /usr/local/lib/python3.10/dist-packages (from transformers) (2023.6.3)\n",
            "Requirement already satisfied: requests in /usr/local/lib/python3.10/dist-packages (from transformers) (2.31.0)\n",
            "Requirement already satisfied: tokenizers<0.15,>=0.14 in /usr/local/lib/python3.10/dist-packages (from transformers) (0.14.1)\n",
            "Requirement already satisfied: safetensors>=0.3.1 in /usr/local/lib/python3.10/dist-packages (from transformers) (0.4.0)\n",
            "Requirement already satisfied: tqdm>=4.27 in /usr/local/lib/python3.10/dist-packages (from transformers) (4.66.1)\n",
            "Requirement already satisfied: fsspec in /usr/local/lib/python3.10/dist-packages (from huggingface-hub<1.0,>=0.16.4->transformers) (2023.6.0)\n",
            "Requirement already satisfied: typing-extensions>=3.7.4.3 in /usr/local/lib/python3.10/dist-packages (from huggingface-hub<1.0,>=0.16.4->transformers) (4.5.0)\n",
            "Requirement already satisfied: charset-normalizer<4,>=2 in /usr/local/lib/python3.10/dist-packages (from requests->transformers) (3.3.0)\n",
            "Requirement already satisfied: idna<4,>=2.5 in /usr/local/lib/python3.10/dist-packages (from requests->transformers) (3.4)\n",
            "Requirement already satisfied: urllib3<3,>=1.21.1 in /usr/local/lib/python3.10/dist-packages (from requests->transformers) (2.0.6)\n",
            "Requirement already satisfied: certifi>=2017.4.17 in /usr/local/lib/python3.10/dist-packages (from requests->transformers) (2023.7.22)\n"
          ]
        }
      ]
    },
    {
      "cell_type": "code",
      "source": [
        "import tensorflow as tf\n",
        "#TPU\n",
        "try:\n",
        "    tpu = tf.distribute.cluster_resolver.TPUClusterResolver.connect()\n",
        "    strategy = tf.distribute.TPUStrategy(tpu)\n",
        "except ValueError:\n",
        "    print(\"TPU not activated\")\n",
        "    strategy = tf.distribute.MirroredStrategy() # Works on CPU, single GPU and multiple GPUs in a single VM."
      ],
      "metadata": {
        "colab": {
          "base_uri": "https://localhost:8080/"
        },
        "id": "bnq1x0n3sl0E",
        "outputId": "6f1b1945-7aad-4098-f11a-fbebcb911511"
      },
      "execution_count": 9,
      "outputs": [
        {
          "output_type": "stream",
          "name": "stdout",
          "text": [
            "TPU not activated\n"
          ]
        }
      ]
    },
    {
      "cell_type": "code",
      "execution_count": 10,
      "metadata": {
        "colab": {
          "base_uri": "https://localhost:8080/"
        },
        "id": "2JeJH-ToEbCB",
        "outputId": "ad27ceb5-c5d9-41fe-a069-08cc1ffde20a"
      },
      "outputs": [
        {
          "output_type": "stream",
          "name": "stdout",
          "text": [
            "           id                                            premise  \\\n",
            "0  5130fd2cb5  and these comments were considered in formulat...   \n",
            "1  5b72532a0b  These are issues that we wrestle with in pract...   \n",
            "2  3931fbe82a  Des petites choses comme celles-là font une di...   \n",
            "3  5622f0c60b  you know they can't really defend themselves l...   \n",
            "4  86aaa48b45  ในการเล่นบทบาทสมมุติก็เช่นกัน โอกาสที่จะได้แสด...   \n",
            "\n",
            "                                          hypothesis lang_abv language  label  \n",
            "0  The rules developed in the interim were put to...       en  English      0  \n",
            "1  Practice groups are not permitted to work on t...       en  English      2  \n",
            "2              J'essayais d'accomplir quelque chose.       fr   French      0  \n",
            "3  They can't defend themselves because of their ...       en  English      0  \n",
            "4    เด็กสามารถเห็นได้ว่าชาติพันธุ์แตกต่างกันอย่างไร       th     Thai      1  \n",
            "           id                                            premise  \\\n",
            "0  c6d58c3f69  بکس، کیسی، راہیل، یسعیاہ، کیلی، کیلی، اور کولم...   \n",
            "1  cefcc82292                             هذا هو ما تم نصحنا به.   \n",
            "2  e98005252c  et cela est en grande partie dû au fait que le...   \n",
            "3  58518c10ba                   与城市及其他公民及社区组织代表就IMA的艺术发展进行对话&amp   \n",
            "4  c32b0d16df                              Она все еще была там.   \n",
            "\n",
            "                                          hypothesis lang_abv language  \n",
            "0  کیسی کے لئے کوئی یادگار نہیں ہوگا, کولمین ہائی...       ur     Urdu  \n",
            "1  عندما يتم إخبارهم بما يجب عليهم فعله ، فشلت ال...       ar   Arabic  \n",
            "2                             Les mères se droguent.       fr   French  \n",
            "3                            IMA与其他组织合作，因为它们都依靠共享资金。       zh  Chinese  \n",
            "4     Мы думали, что она ушла, однако, она осталась.       ru  Russian  \n"
          ]
        }
      ],
      "source": [
        "import pandas as pd\n",
        "import numpy as np\n",
        "import os\n",
        "\n",
        "#Obtaining the datasets\n",
        "train = pd.read_csv('train.csv')\n",
        "final_test=pd.read_csv('test.csv')\n",
        "# Some quick visualizations\n",
        "print(train.head())\n",
        "print(final_test.head())"
      ]
    },
    {
      "cell_type": "markdown",
      "metadata": {
        "id": "xlkw4VcMQ9GM"
      },
      "source": [
        "#Pre Processing"
      ]
    },
    {
      "cell_type": "code",
      "execution_count": 11,
      "metadata": {
        "colab": {
          "base_uri": "https://localhost:8080/"
        },
        "id": "RdeuGDl5RCIS",
        "outputId": "48d7c10c-d101-4637-a538-eb7de293fa35"
      },
      "outputs": [
        {
          "output_type": "stream",
          "name": "stderr",
          "text": [
            "[nltk_data] Downloading package gutenberg to /root/nltk_data...\n",
            "[nltk_data]   Package gutenberg is already up-to-date!\n",
            "[nltk_data] Downloading package stopwords to /root/nltk_data...\n",
            "[nltk_data]   Package stopwords is already up-to-date!\n",
            "[nltk_data] Downloading package omw-1.4 to /root/nltk_data...\n",
            "[nltk_data]   Package omw-1.4 is already up-to-date!\n",
            "[nltk_data] Downloading package punkt to /root/nltk_data...\n",
            "[nltk_data]   Package punkt is already up-to-date!\n",
            "[nltk_data] Downloading package wordnet to /root/nltk_data...\n",
            "[nltk_data]   Package wordnet is already up-to-date!\n",
            "[nltk_data] Downloading package words to /root/nltk_data...\n",
            "[nltk_data]   Package words is already up-to-date!\n",
            "[nltk_data] Downloading package averaged_perceptron_tagger to\n",
            "[nltk_data]     /root/nltk_data...\n",
            "[nltk_data]   Package averaged_perceptron_tagger is already up-to-\n",
            "[nltk_data]       date!\n"
          ]
        },
        {
          "output_type": "execute_result",
          "data": {
            "text/plain": [
              "True"
            ]
          },
          "metadata": {},
          "execution_count": 11
        }
      ],
      "source": [
        "import nltk\n",
        "from nltk.corpus import gutenberg, stopwords, wordnet\n",
        "from nltk.tokenize import word_tokenize\n",
        "import string\n",
        "from nltk.stem import WordNetLemmatizer\n",
        "import re\n",
        "from bs4 import BeautifulSoup\n",
        "nltk.download('gutenberg')\n",
        "nltk.download('stopwords')\n",
        "nltk.download('omw-1.4')\n",
        "nltk.download('punkt')\n",
        "nltk.download('wordnet')\n",
        "nltk.download('words')\n",
        "nltk.download('averaged_perceptron_tagger')"
      ]
    },
    {
      "cell_type": "code",
      "execution_count": 12,
      "metadata": {
        "id": "gRfP4xeuSIBT"
      },
      "outputs": [],
      "source": [
        "def lower_case(text):\n",
        "  return text.lower()\n",
        "def rem_lines(text):\n",
        "    return text.strip().replace('\\n', ' ')\n",
        "def rem_tags(text):\n",
        "  return BeautifulSoup(text, \"html.parser\").get_text()"
      ]
    },
    {
      "cell_type": "code",
      "execution_count": 13,
      "metadata": {
        "id": "IrnlLitKSe2n",
        "colab": {
          "base_uri": "https://localhost:8080/"
        },
        "outputId": "85e23e82-b1b1-4513-f72b-5bc81c545fef"
      },
      "outputs": [
        {
          "output_type": "stream",
          "name": "stdout",
          "text": [
            "0        and these comments were considered in formulat...\n",
            "1        These are issues that we wrestle with in pract...\n",
            "2        Des petites choses comme celles-là font une di...\n",
            "3        you know they can't really defend themselves l...\n",
            "4        ในการเล่นบทบาทสมมุติก็เช่นกัน โอกาสที่จะได้แสด...\n",
            "                               ...                        \n",
            "12115    The results of even the most well designed epi...\n",
            "12116    But there are two kinds of  the pleasure of do...\n",
            "12117    The important thing is to realize that it's wa...\n",
            "12118    At the west end is a detailed model of the who...\n",
            "12119    For himself he chose Atat??rk, or Father of th...\n",
            "Name: features, Length: 12120, dtype: object\n",
            "0       بکس، کیسی، راہیل، یسعیاہ، کیلی، کیلی، اور کولم...\n",
            "1       هذا هو ما تم نصحنا به. عندما يتم إخبارهم بما ي...\n",
            "2       et cela est en grande partie dû au fait que le...\n",
            "3       与城市及其他公民及社区组织代表就IMA的艺术发展进行对话&amp IMA与其他组织合作，因为...\n",
            "4       Она все еще была там. Мы думали, что она ушла,...\n",
            "                              ...                        \n",
            "5190    نیند نے وعدہ کیا کہ موٹل نے سوال میں تحقیق کی....\n",
            "5191    The  rock  has a soft texture and can be bough...\n",
            "5192    她目前的存在，并考虑到他与沃佛斯顿争执的本质，那是尴尬的。 她在与Wolverstone的打...\n",
            "5193    isn't it i can remember i've only been here ei...\n",
            "5194    In Hong Kong you can have a plate, or even a w...\n",
            "Name: features, Length: 5195, dtype: object\n"
          ]
        }
      ],
      "source": [
        "# Take out the id and target columns\n",
        "features_train = train.drop(columns=['language','id','label', 'lang_abv'] )\n",
        "features_test = final_test.drop(columns=['language','id', 'lang_abv'] )\n",
        "# Concatenate all\n",
        "train['features'] = features_train.astype(str).apply(' '.join, axis=1)\n",
        "final_test['features']=features_test.astype(str).apply(' '.join, axis=1)\n",
        "print(train['features'])\n",
        "print(final_test['features'])"
      ]
    },
    {
      "cell_type": "code",
      "execution_count": 14,
      "metadata": {
        "id": "tvqhSa0eY1tO",
        "colab": {
          "base_uri": "https://localhost:8080/"
        },
        "outputId": "89f7edf6-30b9-411e-e3ec-3a95e48d3701"
      },
      "outputs": [
        {
          "output_type": "stream",
          "name": "stderr",
          "text": [
            "<ipython-input-12-844a7fc59cc3>:6: MarkupResemblesLocatorWarning: The input looks more like a filename than markup. You may want to open this file and pass the filehandle into Beautiful Soup.\n",
            "  return BeautifulSoup(text, \"html.parser\").get_text()\n"
          ]
        },
        {
          "output_type": "stream",
          "name": "stdout",
          "text": [
            "0        and these comments were considered in formulat...\n",
            "1        these are issues that we wrestle with in pract...\n",
            "2        des petites choses comme celles-là font une di...\n",
            "3        you know they can't really defend themselves l...\n",
            "4        ในการเล่นบทบาทสมมุติก็เช่นกัน โอกาสที่จะได้แสด...\n",
            "                               ...                        \n",
            "12115    the results of even the most well designed epi...\n",
            "12116    but there are two kinds of  the pleasure of do...\n",
            "12117    the important thing is to realize that it's wa...\n",
            "12118    at the west end is a detailed model of the who...\n",
            "12119    for himself he chose atat??rk, or father of th...\n",
            "Name: features, Length: 12120, dtype: object\n",
            "0       بکس، کیسی، راہیل، یسعیاہ، کیلی، کیلی، اور کولم...\n",
            "1       هذا هو ما تم نصحنا به. عندما يتم إخبارهم بما ي...\n",
            "2       et cela est en grande partie dû au fait que le...\n",
            "3       与城市及其他公民及社区组织代表就ima的艺术发展进行对话& ima与其他组织合作，因为它们都...\n",
            "4       она все еще была там. мы думали, что она ушла,...\n",
            "                              ...                        \n",
            "5190    نیند نے وعدہ کیا کہ موٹل نے سوال میں تحقیق کی....\n",
            "5191    the  rock  has a soft texture and can be bough...\n",
            "5192    她目前的存在，并考虑到他与沃佛斯顿争执的本质，那是尴尬的。 她在与wolverstone的打...\n",
            "5193    isn't it i can remember i've only been here ei...\n",
            "5194    in hong kong you can have a plate, or even a w...\n",
            "Name: features, Length: 5195, dtype: object\n"
          ]
        }
      ],
      "source": [
        "#cleaning train\n",
        "train['features']=train['features'].astype(str).apply(lower_case)\n",
        "train['features']=train['features'].astype(str).apply(rem_tags)\n",
        "#cleaning test\n",
        "final_test['features']=final_test['features'].astype(str).apply(lower_case)\n",
        "final_test['features']=final_test['features'].astype(str).apply(rem_tags)\n",
        "print(train['features'])\n",
        "print(final_test['features'])"
      ]
    },
    {
      "cell_type": "code",
      "execution_count": 15,
      "metadata": {
        "id": "qC9k9RjQO9vv",
        "colab": {
          "base_uri": "https://localhost:8080/"
        },
        "outputId": "e63607a6-ab25-485e-df06-e8a94b668924"
      },
      "outputs": [
        {
          "output_type": "stream",
          "name": "stdout",
          "text": [
            "5289            اب اتنا خفیہ تھا یہ. یہ عوامی معلومات تھی۔\n",
            "6647          oh  that's accommodating that is disruptive.\n",
            "1245     more than anything else in this day and age th...\n",
            "4417     aie! les boucaniers en-dessous s'écriaient, et...\n",
            "5662     一个采购战略组织，是壮大的力资本发展战略的一部分, 这是在原则vi上讨论的。 原则四涉及财富...\n",
            "                               ...                        \n",
            "11964    analytical perspectives. perspectives can be a...\n",
            "5191     the ile saint-louis is an enchanted self-conta...\n",
            "5390           c'était mon désordre. j'ai fait une erreur.\n",
            "860      the fcc will publish a notice in the federal r...\n",
            "7270     kicked out of the house when she was only 16 (...\n",
            "Name: features, Length: 9696, dtype: object\n",
            "4960    кто? она спросила его с неожиданным интересом....\n",
            "2088    others are zao (in tohoku) and a number of res...\n",
            "396     trying to keep grass alive during a summer on ...\n",
            "6385    so i guess my experience is is just with what ...\n",
            "2619    the journal put the point succinctly to  is an...\n",
            "                              ...                        \n",
            "29      he says men are here. he said that the men wer...\n",
            "4560    from from personal parties or from these uh ph...\n",
            "3274    स्टेडियम, और वहां की गतिविधि को एगन कहते हैं, ...\n",
            "4096    wirtschaftswachstum ist teil der kreativität d...\n",
            "568                  回到镇上, 一次海滨漫步会带你穿过繁华街道上的唐人街。 唐人街在水上面。\n",
            "Name: features, Length: 2424, dtype: object\n"
          ]
        }
      ],
      "source": [
        "# Training data preparation\n",
        "from sklearn.model_selection import train_test_split\n",
        "# Splitting the data\n",
        "X_train, X_test, label_train, label_test = train_test_split(train['features'], train['label'], test_size=0.2, random_state=42)\n",
        "#quick visualization\n",
        "print(X_train)\n",
        "print(X_test)"
      ]
    },
    {
      "cell_type": "markdown",
      "source": [
        "#MUSE (Multilingual Universal Sentence Encoder ) based from https://d-salvaggio.medium.com/multilingual-universal-sentence-encoder-muse-f8c9cd44f171"
      ],
      "metadata": {
        "id": "na54Zh8QuEDW"
      }
    },
    {
      "cell_type": "code",
      "source": [
        "!pip install --upgrade tensorflow\n",
        "!pip install --upgrade tensorflow-hub\n"
      ],
      "metadata": {
        "colab": {
          "base_uri": "https://localhost:8080/"
        },
        "id": "mvvvvGl4yaCy",
        "outputId": "d2b82255-fe96-40cc-ead2-5971471361a2"
      },
      "execution_count": 16,
      "outputs": [
        {
          "output_type": "stream",
          "name": "stdout",
          "text": [
            "Requirement already satisfied: tensorflow in /usr/local/lib/python3.10/dist-packages (2.14.0)\n",
            "Requirement already satisfied: absl-py>=1.0.0 in /usr/local/lib/python3.10/dist-packages (from tensorflow) (1.4.0)\n",
            "Requirement already satisfied: astunparse>=1.6.0 in /usr/local/lib/python3.10/dist-packages (from tensorflow) (1.6.3)\n",
            "Requirement already satisfied: flatbuffers>=23.5.26 in /usr/local/lib/python3.10/dist-packages (from tensorflow) (23.5.26)\n",
            "Requirement already satisfied: gast!=0.5.0,!=0.5.1,!=0.5.2,>=0.2.1 in /usr/local/lib/python3.10/dist-packages (from tensorflow) (0.4.0)\n",
            "Requirement already satisfied: google-pasta>=0.1.1 in /usr/local/lib/python3.10/dist-packages (from tensorflow) (0.2.0)\n",
            "Requirement already satisfied: h5py>=2.9.0 in /usr/local/lib/python3.10/dist-packages (from tensorflow) (3.9.0)\n",
            "Requirement already satisfied: libclang>=13.0.0 in /usr/local/lib/python3.10/dist-packages (from tensorflow) (16.0.6)\n",
            "Requirement already satisfied: ml-dtypes==0.2.0 in /usr/local/lib/python3.10/dist-packages (from tensorflow) (0.2.0)\n",
            "Requirement already satisfied: numpy>=1.23.5 in /usr/local/lib/python3.10/dist-packages (from tensorflow) (1.23.5)\n",
            "Requirement already satisfied: opt-einsum>=2.3.2 in /usr/local/lib/python3.10/dist-packages (from tensorflow) (3.3.0)\n",
            "Requirement already satisfied: packaging in /usr/local/lib/python3.10/dist-packages (from tensorflow) (23.2)\n",
            "Requirement already satisfied: protobuf!=4.21.0,!=4.21.1,!=4.21.2,!=4.21.3,!=4.21.4,!=4.21.5,<5.0.0dev,>=3.20.3 in /usr/local/lib/python3.10/dist-packages (from tensorflow) (3.20.3)\n",
            "Requirement already satisfied: setuptools in /usr/local/lib/python3.10/dist-packages (from tensorflow) (67.7.2)\n",
            "Requirement already satisfied: six>=1.12.0 in /usr/local/lib/python3.10/dist-packages (from tensorflow) (1.16.0)\n",
            "Requirement already satisfied: termcolor>=1.1.0 in /usr/local/lib/python3.10/dist-packages (from tensorflow) (2.3.0)\n",
            "Requirement already satisfied: typing-extensions>=3.6.6 in /usr/local/lib/python3.10/dist-packages (from tensorflow) (4.5.0)\n",
            "Requirement already satisfied: wrapt<1.15,>=1.11.0 in /usr/local/lib/python3.10/dist-packages (from tensorflow) (1.14.1)\n",
            "Requirement already satisfied: tensorflow-io-gcs-filesystem>=0.23.1 in /usr/local/lib/python3.10/dist-packages (from tensorflow) (0.34.0)\n",
            "Requirement already satisfied: grpcio<2.0,>=1.24.3 in /usr/local/lib/python3.10/dist-packages (from tensorflow) (1.59.0)\n",
            "Requirement already satisfied: tensorboard<2.15,>=2.14 in /usr/local/lib/python3.10/dist-packages (from tensorflow) (2.14.1)\n",
            "Requirement already satisfied: tensorflow-estimator<2.15,>=2.14.0 in /usr/local/lib/python3.10/dist-packages (from tensorflow) (2.14.0)\n",
            "Requirement already satisfied: keras<2.15,>=2.14.0 in /usr/local/lib/python3.10/dist-packages (from tensorflow) (2.14.0)\n",
            "Requirement already satisfied: wheel<1.0,>=0.23.0 in /usr/local/lib/python3.10/dist-packages (from astunparse>=1.6.0->tensorflow) (0.41.2)\n",
            "Requirement already satisfied: google-auth<3,>=1.6.3 in /usr/local/lib/python3.10/dist-packages (from tensorboard<2.15,>=2.14->tensorflow) (2.17.3)\n",
            "Requirement already satisfied: google-auth-oauthlib<1.1,>=0.5 in /usr/local/lib/python3.10/dist-packages (from tensorboard<2.15,>=2.14->tensorflow) (1.0.0)\n",
            "Requirement already satisfied: markdown>=2.6.8 in /usr/local/lib/python3.10/dist-packages (from tensorboard<2.15,>=2.14->tensorflow) (3.5)\n",
            "Requirement already satisfied: requests<3,>=2.21.0 in /usr/local/lib/python3.10/dist-packages (from tensorboard<2.15,>=2.14->tensorflow) (2.31.0)\n",
            "Requirement already satisfied: tensorboard-data-server<0.8.0,>=0.7.0 in /usr/local/lib/python3.10/dist-packages (from tensorboard<2.15,>=2.14->tensorflow) (0.7.1)\n",
            "Requirement already satisfied: werkzeug>=1.0.1 in /usr/local/lib/python3.10/dist-packages (from tensorboard<2.15,>=2.14->tensorflow) (3.0.0)\n",
            "Requirement already satisfied: cachetools<6.0,>=2.0.0 in /usr/local/lib/python3.10/dist-packages (from google-auth<3,>=1.6.3->tensorboard<2.15,>=2.14->tensorflow) (5.3.1)\n",
            "Requirement already satisfied: pyasn1-modules>=0.2.1 in /usr/local/lib/python3.10/dist-packages (from google-auth<3,>=1.6.3->tensorboard<2.15,>=2.14->tensorflow) (0.3.0)\n",
            "Requirement already satisfied: rsa<5,>=3.1.4 in /usr/local/lib/python3.10/dist-packages (from google-auth<3,>=1.6.3->tensorboard<2.15,>=2.14->tensorflow) (4.9)\n",
            "Requirement already satisfied: requests-oauthlib>=0.7.0 in /usr/local/lib/python3.10/dist-packages (from google-auth-oauthlib<1.1,>=0.5->tensorboard<2.15,>=2.14->tensorflow) (1.3.1)\n",
            "Requirement already satisfied: charset-normalizer<4,>=2 in /usr/local/lib/python3.10/dist-packages (from requests<3,>=2.21.0->tensorboard<2.15,>=2.14->tensorflow) (3.3.0)\n",
            "Requirement already satisfied: idna<4,>=2.5 in /usr/local/lib/python3.10/dist-packages (from requests<3,>=2.21.0->tensorboard<2.15,>=2.14->tensorflow) (3.4)\n",
            "Requirement already satisfied: urllib3<3,>=1.21.1 in /usr/local/lib/python3.10/dist-packages (from requests<3,>=2.21.0->tensorboard<2.15,>=2.14->tensorflow) (2.0.6)\n",
            "Requirement already satisfied: certifi>=2017.4.17 in /usr/local/lib/python3.10/dist-packages (from requests<3,>=2.21.0->tensorboard<2.15,>=2.14->tensorflow) (2023.7.22)\n",
            "Requirement already satisfied: MarkupSafe>=2.1.1 in /usr/local/lib/python3.10/dist-packages (from werkzeug>=1.0.1->tensorboard<2.15,>=2.14->tensorflow) (2.1.3)\n",
            "Requirement already satisfied: pyasn1<0.6.0,>=0.4.6 in /usr/local/lib/python3.10/dist-packages (from pyasn1-modules>=0.2.1->google-auth<3,>=1.6.3->tensorboard<2.15,>=2.14->tensorflow) (0.5.0)\n",
            "Requirement already satisfied: oauthlib>=3.0.0 in /usr/local/lib/python3.10/dist-packages (from requests-oauthlib>=0.7.0->google-auth-oauthlib<1.1,>=0.5->tensorboard<2.15,>=2.14->tensorflow) (3.2.2)\n",
            "Requirement already satisfied: tensorflow-hub in /usr/local/lib/python3.10/dist-packages (0.15.0)\n",
            "Requirement already satisfied: numpy>=1.12.0 in /usr/local/lib/python3.10/dist-packages (from tensorflow-hub) (1.23.5)\n",
            "Requirement already satisfied: protobuf>=3.19.6 in /usr/local/lib/python3.10/dist-packages (from tensorflow-hub) (3.20.3)\n"
          ]
        }
      ]
    },
    {
      "cell_type": "code",
      "source": [
        "!pip install tensorflow_text\n",
        "import tensorflow_text\n",
        "#encoding\n",
        "import tensorflow as tf\n",
        "import tensorflow_hub as hub\n",
        "\n",
        "# Load the Multilingual Universal Sentence Encoder model\n",
        "muse_url = \"https://tfhub.dev/google/universal-sentence-encoder-multilingual/3\"\n",
        "muse_embed = hub.load(muse_url)\n",
        "\n",
        "# Encode your text data (X) into embeddings\n",
        "X_train_vec= muse_embed(X_train.tolist())  # X is a list of text data\n",
        "X_test_vec= muse_embed(X_test.tolist())\n",
        "final_test_vec=muse_embed(final_test['features'].tolist())"
      ],
      "metadata": {
        "colab": {
          "base_uri": "https://localhost:8080/"
        },
        "id": "FuEtjPyTuOTp",
        "outputId": "11687e71-8f33-41de-b50c-5a145bac2547"
      },
      "execution_count": 17,
      "outputs": [
        {
          "output_type": "stream",
          "name": "stdout",
          "text": [
            "Requirement already satisfied: tensorflow_text in /usr/local/lib/python3.10/dist-packages (2.14.0)\n",
            "Requirement already satisfied: tensorflow-hub>=0.13.0 in /usr/local/lib/python3.10/dist-packages (from tensorflow_text) (0.15.0)\n",
            "Requirement already satisfied: tensorflow<2.15,>=2.14.0 in /usr/local/lib/python3.10/dist-packages (from tensorflow_text) (2.14.0)\n",
            "Requirement already satisfied: absl-py>=1.0.0 in /usr/local/lib/python3.10/dist-packages (from tensorflow<2.15,>=2.14.0->tensorflow_text) (1.4.0)\n",
            "Requirement already satisfied: astunparse>=1.6.0 in /usr/local/lib/python3.10/dist-packages (from tensorflow<2.15,>=2.14.0->tensorflow_text) (1.6.3)\n",
            "Requirement already satisfied: flatbuffers>=23.5.26 in /usr/local/lib/python3.10/dist-packages (from tensorflow<2.15,>=2.14.0->tensorflow_text) (23.5.26)\n",
            "Requirement already satisfied: gast!=0.5.0,!=0.5.1,!=0.5.2,>=0.2.1 in /usr/local/lib/python3.10/dist-packages (from tensorflow<2.15,>=2.14.0->tensorflow_text) (0.4.0)\n",
            "Requirement already satisfied: google-pasta>=0.1.1 in /usr/local/lib/python3.10/dist-packages (from tensorflow<2.15,>=2.14.0->tensorflow_text) (0.2.0)\n",
            "Requirement already satisfied: h5py>=2.9.0 in /usr/local/lib/python3.10/dist-packages (from tensorflow<2.15,>=2.14.0->tensorflow_text) (3.9.0)\n",
            "Requirement already satisfied: libclang>=13.0.0 in /usr/local/lib/python3.10/dist-packages (from tensorflow<2.15,>=2.14.0->tensorflow_text) (16.0.6)\n",
            "Requirement already satisfied: ml-dtypes==0.2.0 in /usr/local/lib/python3.10/dist-packages (from tensorflow<2.15,>=2.14.0->tensorflow_text) (0.2.0)\n",
            "Requirement already satisfied: numpy>=1.23.5 in /usr/local/lib/python3.10/dist-packages (from tensorflow<2.15,>=2.14.0->tensorflow_text) (1.23.5)\n",
            "Requirement already satisfied: opt-einsum>=2.3.2 in /usr/local/lib/python3.10/dist-packages (from tensorflow<2.15,>=2.14.0->tensorflow_text) (3.3.0)\n",
            "Requirement already satisfied: packaging in /usr/local/lib/python3.10/dist-packages (from tensorflow<2.15,>=2.14.0->tensorflow_text) (23.2)\n",
            "Requirement already satisfied: protobuf!=4.21.0,!=4.21.1,!=4.21.2,!=4.21.3,!=4.21.4,!=4.21.5,<5.0.0dev,>=3.20.3 in /usr/local/lib/python3.10/dist-packages (from tensorflow<2.15,>=2.14.0->tensorflow_text) (3.20.3)\n",
            "Requirement already satisfied: setuptools in /usr/local/lib/python3.10/dist-packages (from tensorflow<2.15,>=2.14.0->tensorflow_text) (67.7.2)\n",
            "Requirement already satisfied: six>=1.12.0 in /usr/local/lib/python3.10/dist-packages (from tensorflow<2.15,>=2.14.0->tensorflow_text) (1.16.0)\n",
            "Requirement already satisfied: termcolor>=1.1.0 in /usr/local/lib/python3.10/dist-packages (from tensorflow<2.15,>=2.14.0->tensorflow_text) (2.3.0)\n",
            "Requirement already satisfied: typing-extensions>=3.6.6 in /usr/local/lib/python3.10/dist-packages (from tensorflow<2.15,>=2.14.0->tensorflow_text) (4.5.0)\n",
            "Requirement already satisfied: wrapt<1.15,>=1.11.0 in /usr/local/lib/python3.10/dist-packages (from tensorflow<2.15,>=2.14.0->tensorflow_text) (1.14.1)\n",
            "Requirement already satisfied: tensorflow-io-gcs-filesystem>=0.23.1 in /usr/local/lib/python3.10/dist-packages (from tensorflow<2.15,>=2.14.0->tensorflow_text) (0.34.0)\n",
            "Requirement already satisfied: grpcio<2.0,>=1.24.3 in /usr/local/lib/python3.10/dist-packages (from tensorflow<2.15,>=2.14.0->tensorflow_text) (1.59.0)\n",
            "Requirement already satisfied: tensorboard<2.15,>=2.14 in /usr/local/lib/python3.10/dist-packages (from tensorflow<2.15,>=2.14.0->tensorflow_text) (2.14.1)\n",
            "Requirement already satisfied: tensorflow-estimator<2.15,>=2.14.0 in /usr/local/lib/python3.10/dist-packages (from tensorflow<2.15,>=2.14.0->tensorflow_text) (2.14.0)\n",
            "Requirement already satisfied: keras<2.15,>=2.14.0 in /usr/local/lib/python3.10/dist-packages (from tensorflow<2.15,>=2.14.0->tensorflow_text) (2.14.0)\n",
            "Requirement already satisfied: wheel<1.0,>=0.23.0 in /usr/local/lib/python3.10/dist-packages (from astunparse>=1.6.0->tensorflow<2.15,>=2.14.0->tensorflow_text) (0.41.2)\n",
            "Requirement already satisfied: google-auth<3,>=1.6.3 in /usr/local/lib/python3.10/dist-packages (from tensorboard<2.15,>=2.14->tensorflow<2.15,>=2.14.0->tensorflow_text) (2.17.3)\n",
            "Requirement already satisfied: google-auth-oauthlib<1.1,>=0.5 in /usr/local/lib/python3.10/dist-packages (from tensorboard<2.15,>=2.14->tensorflow<2.15,>=2.14.0->tensorflow_text) (1.0.0)\n",
            "Requirement already satisfied: markdown>=2.6.8 in /usr/local/lib/python3.10/dist-packages (from tensorboard<2.15,>=2.14->tensorflow<2.15,>=2.14.0->tensorflow_text) (3.5)\n",
            "Requirement already satisfied: requests<3,>=2.21.0 in /usr/local/lib/python3.10/dist-packages (from tensorboard<2.15,>=2.14->tensorflow<2.15,>=2.14.0->tensorflow_text) (2.31.0)\n",
            "Requirement already satisfied: tensorboard-data-server<0.8.0,>=0.7.0 in /usr/local/lib/python3.10/dist-packages (from tensorboard<2.15,>=2.14->tensorflow<2.15,>=2.14.0->tensorflow_text) (0.7.1)\n",
            "Requirement already satisfied: werkzeug>=1.0.1 in /usr/local/lib/python3.10/dist-packages (from tensorboard<2.15,>=2.14->tensorflow<2.15,>=2.14.0->tensorflow_text) (3.0.0)\n",
            "Requirement already satisfied: cachetools<6.0,>=2.0.0 in /usr/local/lib/python3.10/dist-packages (from google-auth<3,>=1.6.3->tensorboard<2.15,>=2.14->tensorflow<2.15,>=2.14.0->tensorflow_text) (5.3.1)\n",
            "Requirement already satisfied: pyasn1-modules>=0.2.1 in /usr/local/lib/python3.10/dist-packages (from google-auth<3,>=1.6.3->tensorboard<2.15,>=2.14->tensorflow<2.15,>=2.14.0->tensorflow_text) (0.3.0)\n",
            "Requirement already satisfied: rsa<5,>=3.1.4 in /usr/local/lib/python3.10/dist-packages (from google-auth<3,>=1.6.3->tensorboard<2.15,>=2.14->tensorflow<2.15,>=2.14.0->tensorflow_text) (4.9)\n",
            "Requirement already satisfied: requests-oauthlib>=0.7.0 in /usr/local/lib/python3.10/dist-packages (from google-auth-oauthlib<1.1,>=0.5->tensorboard<2.15,>=2.14->tensorflow<2.15,>=2.14.0->tensorflow_text) (1.3.1)\n",
            "Requirement already satisfied: charset-normalizer<4,>=2 in /usr/local/lib/python3.10/dist-packages (from requests<3,>=2.21.0->tensorboard<2.15,>=2.14->tensorflow<2.15,>=2.14.0->tensorflow_text) (3.3.0)\n",
            "Requirement already satisfied: idna<4,>=2.5 in /usr/local/lib/python3.10/dist-packages (from requests<3,>=2.21.0->tensorboard<2.15,>=2.14->tensorflow<2.15,>=2.14.0->tensorflow_text) (3.4)\n",
            "Requirement already satisfied: urllib3<3,>=1.21.1 in /usr/local/lib/python3.10/dist-packages (from requests<3,>=2.21.0->tensorboard<2.15,>=2.14->tensorflow<2.15,>=2.14.0->tensorflow_text) (2.0.6)\n",
            "Requirement already satisfied: certifi>=2017.4.17 in /usr/local/lib/python3.10/dist-packages (from requests<3,>=2.21.0->tensorboard<2.15,>=2.14->tensorflow<2.15,>=2.14.0->tensorflow_text) (2023.7.22)\n",
            "Requirement already satisfied: MarkupSafe>=2.1.1 in /usr/local/lib/python3.10/dist-packages (from werkzeug>=1.0.1->tensorboard<2.15,>=2.14->tensorflow<2.15,>=2.14.0->tensorflow_text) (2.1.3)\n",
            "Requirement already satisfied: pyasn1<0.6.0,>=0.4.6 in /usr/local/lib/python3.10/dist-packages (from pyasn1-modules>=0.2.1->google-auth<3,>=1.6.3->tensorboard<2.15,>=2.14->tensorflow<2.15,>=2.14.0->tensorflow_text) (0.5.0)\n",
            "Requirement already satisfied: oauthlib>=3.0.0 in /usr/local/lib/python3.10/dist-packages (from requests-oauthlib>=0.7.0->google-auth-oauthlib<1.1,>=0.5->tensorboard<2.15,>=2.14->tensorflow<2.15,>=2.14.0->tensorflow_text) (3.2.2)\n"
          ]
        }
      ]
    },
    {
      "cell_type": "markdown",
      "metadata": {
        "id": "aS4BGzomOHLg"
      },
      "source": [
        "#Training"
      ]
    },
    {
      "cell_type": "code",
      "execution_count": 18,
      "metadata": {
        "id": "JZQ6R_MbSm5O"
      },
      "outputs": [],
      "source": [
        "#Some models\n",
        "from sklearn.svm import LinearSVC as SVM\n",
        "from sklearn.svm import SVC\n",
        "from sklearn.linear_model import LogisticRegression as LR\n",
        "from sklearn.metrics import classification_report as CR\n",
        "from sklearn.naive_bayes import BernoulliNB as NB\n",
        "from sklearn.ensemble import RandomForestClassifier as RFC\n",
        "from sklearn.linear_model import Perceptron as PT\n",
        "#initial models configuration\n",
        "svm=SVM(penalty='l2',max_iter=500,C=1,random_state=42)\n",
        "svc=SVC(max_iter=500,C=1,random_state=42)\n",
        "lr=LR(max_iter=500)\n",
        "nb=NB(alpha=1)\n",
        "rfc=RFC(n_estimators=10,random_state=42)\n",
        "pt=PT(tol=1e-3, random_state=42)\n",
        "#array of models\n",
        "models=[svm,lr, nb, rfc, pt]\n",
        "#array of results\n",
        "pred=[]"
      ]
    },
    {
      "cell_type": "code",
      "execution_count": 19,
      "metadata": {
        "id": "bhYsUbtrA2kG",
        "colab": {
          "base_uri": "https://localhost:8080/"
        },
        "outputId": "b2d556fd-91e2-4618-e542-e04db34f2305"
      },
      "outputs": [
        {
          "output_type": "stream",
          "name": "stdout",
          "text": [
            "LinearSVC(C=1, max_iter=500, random_state=42)\n",
            "              precision    recall  f1-score   support\n",
            "\n",
            "           0       0.44      0.44      0.44       851\n",
            "           1       0.37      0.34      0.35       773\n",
            "           2       0.47      0.51      0.49       800\n",
            "\n",
            "    accuracy                           0.43      2424\n",
            "   macro avg       0.43      0.43      0.43      2424\n",
            "weighted avg       0.43      0.43      0.43      2424\n",
            "\n",
            "accuracy: 0.42945544554455445\n",
            "LogisticRegression(max_iter=500)\n",
            "              precision    recall  f1-score   support\n",
            "\n",
            "           0       0.43      0.43      0.43       851\n",
            "           1       0.38      0.35      0.36       773\n",
            "           2       0.47      0.50      0.48       800\n",
            "\n",
            "    accuracy                           0.43      2424\n",
            "   macro avg       0.42      0.43      0.42      2424\n",
            "weighted avg       0.42      0.43      0.43      2424\n",
            "\n",
            "accuracy: 0.4265676567656766\n",
            "BernoulliNB(alpha=1)\n",
            "              precision    recall  f1-score   support\n",
            "\n",
            "           0       0.42      0.44      0.43       851\n",
            "           1       0.36      0.32      0.34       773\n",
            "           2       0.46      0.49      0.48       800\n",
            "\n",
            "    accuracy                           0.42      2424\n",
            "   macro avg       0.42      0.42      0.42      2424\n",
            "weighted avg       0.42      0.42      0.42      2424\n",
            "\n",
            "accuracy: 0.41955445544554454\n",
            "RandomForestClassifier(n_estimators=10, random_state=42)\n",
            "              precision    recall  f1-score   support\n",
            "\n",
            "           0       0.33      0.39      0.36       851\n",
            "           1       0.30      0.26      0.28       773\n",
            "           2       0.36      0.33      0.34       800\n",
            "\n",
            "    accuracy                           0.33      2424\n",
            "   macro avg       0.33      0.33      0.33      2424\n",
            "weighted avg       0.33      0.33      0.33      2424\n",
            "\n",
            "accuracy: 0.3296204620462046\n",
            "Perceptron(random_state=42)\n",
            "              precision    recall  f1-score   support\n",
            "\n",
            "           0       0.41      0.34      0.37       851\n",
            "           1       0.36      0.46      0.41       773\n",
            "           2       0.41      0.38      0.39       800\n",
            "\n",
            "    accuracy                           0.39      2424\n",
            "   macro avg       0.39      0.39      0.39      2424\n",
            "weighted avg       0.39      0.39      0.39      2424\n",
            "\n",
            "accuracy: 0.3910891089108911\n"
          ]
        }
      ],
      "source": [
        "#Training with each model\n",
        "from sklearn.metrics import accuracy_score, f1_score\n",
        "def fit(x_train,y_train,x_test,y_test):\n",
        "  for model in models:\n",
        "    model.fit(x_train,y_train)\n",
        "    print(model)\n",
        "    prediction=(model.predict(x_test))\n",
        "    print(CR(y_test,prediction))\n",
        "    print(\"accuracy:\",accuracy_score(y_test,prediction))\n",
        "    pred.append(prediction)\n",
        "#function execution\n",
        "fit(X_train_vec,label_train,X_test_vec,label_test)"
      ]
    },
    {
      "cell_type": "code",
      "execution_count": 25,
      "metadata": {
        "id": "gXKJYJwEL_iL",
        "colab": {
          "base_uri": "https://localhost:8080/"
        },
        "outputId": "ce2e5c22-31ce-4257-b421-5f36050ffc3b"
      },
      "outputs": [
        {
          "output_type": "stream",
          "name": "stdout",
          "text": [
            "              precision    recall  f1-score   support\n",
            "\n",
            "           0       0.43      0.43      0.43       851\n",
            "           1       0.38      0.34      0.36       773\n",
            "           2       0.47      0.52      0.49       800\n",
            "\n",
            "    accuracy                           0.43      2424\n",
            "   macro avg       0.43      0.43      0.43      2424\n",
            "weighted avg       0.43      0.43      0.43      2424\n",
            "\n",
            "accuracy: 0.42945544554455445\n"
          ]
        }
      ],
      "source": [
        "#Reconfiguring LinearSVC as it showed to be the best option\n",
        "svm=SVM(penalty='l2',max_iter=2000,C=0.2,random_state=38,tol=1e-9)\n",
        "svm.fit(X_train_vec,label_train)\n",
        "y_pred=(svm.predict(X_test_vec))\n",
        "print(CR(label_test,y_pred))\n",
        "print(\"accuracy:\",accuracy_score(label_test,y_pred))"
      ]
    },
    {
      "cell_type": "markdown",
      "metadata": {
        "id": "8vlj0Z3WOOQQ"
      },
      "source": [
        "#Execution"
      ]
    },
    {
      "cell_type": "code",
      "execution_count": 21,
      "metadata": {
        "id": "vORGrUPHpHmk",
        "colab": {
          "base_uri": "https://localhost:8080/"
        },
        "outputId": "7e33ba07-9a80-4a38-e73d-29d1e9903b8d"
      },
      "outputs": [
        {
          "output_type": "stream",
          "name": "stdout",
          "text": [
            "           id  prediction\n",
            "0  c6d58c3f69           0\n",
            "1  cefcc82292           2\n",
            "2  e98005252c           1\n",
            "3  58518c10ba           0\n",
            "4  c32b0d16df           0\n"
          ]
        }
      ],
      "source": [
        "#prediction of the actual test data with linearSVC\n",
        "y_pred=(svm.predict(final_test_vec))\n",
        "#transforming into dataframe to facilitate csv creation\n",
        "\n",
        "result_df=final_test.drop(columns=['lang_abv','language', 'premise', 'hypothesis', 'features'] )\n",
        "result_df['prediction']=y_pred\n",
        "print(result_df.head())"
      ]
    },
    {
      "cell_type": "markdown",
      "metadata": {
        "id": "2Xg1N65ZCu5H"
      },
      "source": [
        "#CSV creation"
      ]
    },
    {
      "cell_type": "code",
      "execution_count": 22,
      "metadata": {
        "id": "cpKaQU2hyI5N"
      },
      "outputs": [],
      "source": [
        "from google.colab import files\n",
        "#csv creation and download\n",
        "file_name_csv = \"submission.csv\"  # Nombre del archivo CSV de salida\n",
        "result_df.to_csv(file_name_csv, index=False)"
      ]
    }
  ],
  "metadata": {
    "colab": {
      "provenance": []
    },
    "kernelspec": {
      "display_name": "Python 3",
      "name": "python3"
    },
    "language_info": {
      "name": "python"
    }
  },
  "nbformat": 4,
  "nbformat_minor": 0
}